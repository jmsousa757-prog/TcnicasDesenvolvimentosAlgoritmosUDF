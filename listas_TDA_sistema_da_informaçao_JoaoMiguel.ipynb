{
  "nbformat": 4,
  "nbformat_minor": 0,
  "metadata": {
    "colab": {
      "provenance": [],
      "authorship_tag": "ABX9TyPFQKn7E4K5Wi8eDzh3BL+B",
      "include_colab_link": true
    },
    "kernelspec": {
      "name": "python3",
      "display_name": "Python 3"
    },
    "language_info": {
      "name": "python"
    }
  },
  "cells": [
    {
      "cell_type": "markdown",
      "metadata": {
        "id": "view-in-github",
        "colab_type": "text"
      },
      "source": [
        "<a href=\"https://colab.research.google.com/github/jmsousa757-prog/TcnicasDesenvolvimentosAlgoritmosUDF/blob/main/aula1_TDA_JoaoMiguel.ipynb\" target=\"_parent\"><img src=\"https://colab.research.google.com/assets/colab-badge.svg\" alt=\"Open In Colab\"/></a>"
      ]
    },
    {
      "cell_type": "code",
      "execution_count": 20,
      "metadata": {
        "id": "TWzET8IzXgA_"
      },
      "outputs": [],
      "source": []
    },
    {
      "cell_type": "markdown",
      "source": [
        "Nome: João Miguel\n",
        "\n",
        "Turma: Sistema da informação\n",
        "\n",
        "![ei maça.avif](data:image/avif;base64,AAAAHGZ0eXBhdmlmAAAAAGF2aWZtaWYxbWlhZgAAASttZXRhAAAAAAAAACFoZGxyAAAAAAAAAABwaWN0AAAAAAAAAAAAAAAAAAAAAA5waXRtAAAAAAABAAAANGlsb2MAAAAAREAAAgABAAAAAAFPAAEAAAAAAAAUiQACAAAAABXYAAEAAAAAAAAAvgAAADhpaW5mAAAAAAACAAAAFWluZmUCAAAAAAEAAGF2MDEAAAAAFWluZmUCAAABAAIAAEV4aWYAAAAAamlwcnAAAABLaXBjbwAAABNjb2xybmNseAABAA0ABoAAAAAMYXYxQ4EEDAAAAAAUaXNwZQAAAAAAAALQAAABkwAAABBwaXhpAAAAAAMICAgAAAAXaXBtYQAAAAAAAAABAAEEAYIDBAAAABppcmVmAAAAAAAAAA5jZHNjAAIAAQABAAAVT21kYXQSAAoKGSYs/JMEBDQaEDL4KBHgAkkkkUDZikTQyfrsHHMQPDkaSHcljeIjj24D3+0v1eWDndUTTZSBo8Gqx4/ysaiCTu0XdTfWzBBHiuKhKUqQcaRp9cxo9pi2WOovAmIzKFcmaxVsXqJ2YiEKT5eT9Cel6/HZ2yF1CK3WHNPxjJE8zL7xp/yaVSDQOomzJlrky6X3VUhJ8/zefl92T/oeFJQa4Uzvzih7MS2GfefYU1c+pgSLqZ3mjiZZjcykG1QLexOo9k9Ruoy0HJNbF1PZYRVs7dBXVUfx3UL7hD3NX4EF4BqZ2zM31h4z+mZ/BDWLlQE6JOPmf8zDSH9XMDYUusxmDk9rB2e7RbjQEsm8ge5MlPytoThROIPzykB1U4u0E5QS6bynCrvUIpne4z4MuJ8LSAZKsuScwyBmAUJbtTrk9bUbw2c9JReyt69kJLJT5Stvj4/2hDa9MDYU7SeGKVSdmnd0+w0J2e3UJ5bv89hb2llHoPIaGz/VZucoVQ7L03hCc8lAR1W9hIifR27nc8ubCvscdklzKqjC9qPHI76bwB2D1eAeglgvlRxyc0OGG1J6S9X0Ac2Kl+d/EQdBYneFStaPyIIrzJIHe2kVqu68dJ478ZFlVvYkjDkHtnNj2UPMLaYLEEiAmnvY1zf8mBK/UXzwG+4/LDOdktrklaZ0nTj+en3T+oto9AYIh5K2j2664qvdllFGrTAZGeJEsWsbopbFcnfFpRMWIJUSvBvBwj3sragDIJznTKQFzG+SoWnsYhmyIgoEN5rPUMTewehlH1ulZy55w9cbfLqYHTSiN7UzCllyeL7w4R+G2SXTXbEjOJ9BujQfjzFw8edFkLYrlsY0rbWXRu9cT7UoVnd3hgb8Vj4ZlmItOZm+vujdMmQO7LJCjgvJNCHaENr+Gak4rDYiO4yrRWuH6MnT4TUwM2pbowZ8zyVaqDTk4XW8RQOQUlY2fEaAPBEn36LY8u5cSey4mo0fdOODz8k+V2nrSoM8bsa/DNx86CmuwhkwseiR/5gpkBJYk3P9YzR5q/l6ssjosEZ9DyV/M4FcUCTC1gWRD+lmniNO3yZ3bMn5VUCnuR3nn4fdRFDP1DoO1ZXAcuoLk6DGmXqq0Mmmm6y/YQbOuzMCcwle5tngeQ8NWlQjUPUOt5j0QCVSADDCKdDo6cR+VYddRZ+v/3A0wkc773LKjC8309wCOgscPbXZWrjkcbF0OtFf2hc2yq/V3gxF5/yOl9f4R6cLDPG+ATgYrCh+xWxDozlC5y/zlAIVQsBpjy1yXQRECAa6RexC/lPkAteW9Hncp8x252F37Z+7C173VVUAK2fAUIOUxj7jQKjg7swwFyAWxMpvNOoAJLSz65ekxswIoIzlM+H+CJPQYTKmolUo5hOqtgHcVb8+Bp+ZqVMzy0lrEyJ18Y0CXxDPFtkB0I7quc9jRSRvms/vy7VwU66FTdeAL9pLM13YaHd9qtdeFkQZWV+T8siy71gxfUetQQ3bSVkOqTDeKtWO4LKpqDeNXbddefq9k5vidatLPfPVXNrrx9Qn1gBkQ9lgdNjvYkT3Np0M70hL5M2rPV/mpEecLCpInhEI3+/785nJTzsQ1/6mfTRY2MW2Y+qlMEo2PaLXIdR69qsxe91TywYpwtEVig0oX73GTSYUfuEpVsoB8CQvENx879pSb874Cg4KtToJKc7CVxryCOgdMGoKYPPqqVrZ/sz31HtFPXqTQuRpJTrnFD3S5zGIQfWGgadS8MONPv9Eatnia6yDU8fza0oDI2Fnm82ASUb3D1zvA8YXnFJ5Xfb+gtSGx9kllaN7wmU6PzN1zrX09ley6CG2V8Z9jazmjIB8Y4xyrDbTLgP/2FIzTZhAzMOkLMRkuF3I59xZLk+Pqmb7HjN+4ItAUMUWPrcVRfj5TpDDsUaNjhwg2dJn7uRqYBLoTyk6Tjl3bYypzlxs0gVhUHybW+mDLYzfdyfvuqm7WHiJS1gQRWrObqkEUE9l1YlDAyuURYZ3q9kOU5V/f7YdqQSMu9NA2dC7LHnTFSEiN/jETg37GCjkNFyUxcd5oJlpFiw79Z0dYUDlZa9c6SRsLb2HmxNyWNr9C3mXMPNn3LCNtGdev5Pm2JDx2CJZTWQNKl9HMIwZPaSxS70Jo/VHbMDRTH5OgjzEGF9snY5biT+oGF2zItTnOrDZLQac3YcpS1aEeJX9ZGQg0IuftWn28mqW+XAV5Ijhc3rCl549aVHAbbrEg6MtJvYVSxxPQfcUR6X8AdBKcMxd1FKV6Zcws6ZsD02NlLhKGJ60KTvisllJcVOtApqSHf3ObFcTD9vUcKmIF/tUAuaTB8eccfB4NyvD//Zs+JRkHHhh9Zy+42ETSfOtfeSwe9S9omwAxrkv3wkP7QtxoOUltbPyRmdqpomgsQpsClee0JUHr1jBnRUiz8jf9nJbYa1+eX10sSlo0kf81xyw4Jr/e2bhm8/xESvzxCm63I/kHVE2WrpwlkYhTXEvZgoAEJzV6QQ7pk6A/HPrYaXxm5bUlHJX0Yk5NOB06MRnr04du/AnvGXX4UmSpVgE1vopY5vXwpFQHUPX/lrjk1SJwY1rO9H1EhsOEMF0MCzs29c2MUzJdlE0R6NIy/dGUlUsMsFY+lI9hTMn8v0FS/oU5AbGKc2KO46TmfJXaW4ZVgS0ncesfMPmIIIuRrOkCA8T/3YNlsWdx9jzM+nSU2/RAFSDFwPJAJza8NoJfQnTNfIeYtWoa26iS9AEYGqAXmS8I0recgCdOlraLe1nRzfJy8xcRDDDh0oiRAHIOFPj8waMIhJFjLmlYNnLZ8pA99rWVtFF6iBHd3F5neUzQroDZ4zBp9HfhxNHuGGtdfWspI0+IjSWiukVVpGnqGjVw73E22xUR1khqKnwrYMTYc3hyAjAAGGUnGdno18jMp+xOTgbgbjn/W5OoTkXZZ6/sgbnwEpjPIs4ILdUim4YyPDEfufmiHWfDHgIBDOiObEjrplWH9XtN985ISP0Qmf6Xmjxl/nZoHy5Wv0eO8+F9GEApGm+dbGhVflVBgrrOyioeslcChgYU5Imj8sMdQFtRiQJe/adzd9FDWk2SdLTF/r8CTCWDCXZgxkQmEyI6q2Sopy+1iPcXCvBC2Vm7KgCzYIMNyErhmLbg85O9MrKW6U9ijo7gEpUy1MTTCmJG19Bv/ftKXgMCX2QHWyw9ciqUbpZbfXI3RhRQPgbqUTSkO1EJrlkCA+Ew/J/XFiWKLwYJe3YSuKXcPww7UJoDa4Y4UFzh+soAFcA1k/t4+QLvmKHk4u85Q6RT6PpgBy79U6DCUWNrAs8JKAKW4sM90XN3ZOFuAo1KSJCQ3DsqN+ZvCIpDhQD6HH1ZhT9zwm67fHgBCtRRS5EH38qQG+mr3LNORL/qh6SvtOo4U0Uq13Gq+QCHdzgU/ti26f8kM/Q+tzcQfSddQfL7OioaPGe3q5GHMIHG5Aicr1PxwCQdO4bU62KZ76tlNdNJdu/F+qHWHiA2GAMvieqkJNseKbYOj53b4gFbZ699A+u6cr6NpcHsb6wVW+ICNbrhA6vtOB9mN/5c1/E8gHcPYq0i8/a2LPb7dpxGVp6uFO/joTOTpluR4SrDjvGOFIh+Pp05xz3nd+8RGWbgpJsF1q878FoKB6GXhGguCDw1GlyKUFBrHffgMdeaiYg/Dpf6JVQxEy5W9vizdVOBqR1NHGmrkTa3ZX/qC/0luoi5t8gPXv2scHiC6ztvFvjawVe2gl2KefZ9k2nBzMZ3p4mcmrk5e/QC3gkQri/85SiBbizkvHVLZN3PWA6i9yusGReJmFY5/gn9qKonS7GQMiWSqfxrUYWne0iwZcl9EHwSr2GcMsofJgjBMxhN9ak0sX1DtF7wfnjEXEizos30GxS8tIK8JaZSCFmfZHnJs/ZblplYGBw/HJSvj2UgjHhB/0TkgkrYFbv01l6DmktJPq0rJOuen3NAnht9kZOcNicoFIzHnRdtVdcQRstx7NKy7WZqUmyRkww1T9QMbwdLJ90H+yr4ZLqyV80ZLcc3+cBS77I4vyEwxPrjMJcURSfe+6e8AHlhQpCaOGTX3EBUdT1ip8sCQFjbqj+fRBgvmaX6D/rXYOEaS7/RjguHQh4x3WPjdmhGWwoTfqW3F2sxbIPvzsxM0fSZ/9Vvnwtl2ZPx0gtbSAE4gGoebFd5CMDfnf1GWI/YK/MgO0rTQZjAexAUTlK2TK+cZBMRqXmT91f2nEDYYFw0ukt4OLxEX5tF9+7BWFl7rRvsZoV9TUH/yNqBCcbyInv8LAiGs7NXCq2Z+jp0PJbz6L2nyiqaOb1K0YBQSier8YmEi3mpsDr0+3hMEA7BBFd/uJrFLa1JwgzvNx4z42227qLNkFyxr9U+h0EQhUqHXU2Zx51MysOXzCMyNdkRzz7oOg/xeDPtqM1oNDdyTCCJsq0gp5VXacrIuTvv20QNTgjzdujOK/z4XgPDFSgo7RjPrb5IrbhUkmxqVDD8Qc4Br41XrIOhVoPrn/JEjwq56qKs29URV6avA2+Um7aoj/dm5z//MMAf8jvcmf7ueYxIrdwDJZsvhD1P7j6IDbIMWPFxgUJptkYQk7YGdWhPjvEJUADPHWy+DvULa7+FRCP1q6HzII+QNTFB0tzx0x5mWU2ggs2y6ZM/+NZeKfX3QTHzPW6KWOnr2JkEa/fe10bvZBEpTv+sPLFr9JIBei+YSfcBJp4KS1CXxvx1yd1GrNA85ecla0EEOwKQsUqjKAS0NycSGwSKB8WTywBS9D4lHhM6X5NVppv6TnQMrqxkqXVYEU8osRU5rgv4fspN0pSjPq3PIx44ciBuFyeQfqUkc0eTyQBOpyZ9fzLL69BsldTqKrkxDw12IZwCG+5f8xGwiXpDMkKy6Dtdd3G/AWzHLtXezDtJRL0ArJ3+TFcmiOcZkU4OC4FIlKqfasOSF9UUajcAhrnJV3FPOBMBGLYtD89pLH/C4cNi9dr852F93MLqKpcFJXa3lk4781UTys+uahBfQORa9WNcuoF8fin8QHb9ZttI3lkpmdqgwLX6rMmJ8OW8yw1KzJjkFoQyNY+1EbTlOnxVkgKzUcJ7JgminKXCgAbJe05bGOGAigbuq35qt8V7lfCJMWA7kcyiahHm/5/M+zcr8BM8vLHFt8UwAEUKMO7CzsnK2GdqMSnOBU3NsUd5L7mpn+eJ9Do41Dbv3dfsyIBVbAe9UTWYloZL8vvITkTaL8hODp9x8Qklr6eRKvj2tDVD7NNjWZgYQ8ejmMAKR8e/pT1EVk1WpXS+FMd6a8QpaT3Ccwk1cJ1SiV5PWBkO1TuTZEZhxkzn5GhCuZZS9vuFFqabizRA9qOf9uojTG0nyQbzjGxPbPJ/qoF68kCTLouaK41janj2c25PdTTfFrGsG0NDPc9/m+ojPIesCR/DD9rnicVTA4pOdsOvJJcCamvxy63GtAp87l4JeQccJuh864gPCqaRs+NE8j6vW+tgsJtTiQ3sHBkM+H59pos8IhMEeTgC9+moY5AE4HKZMvC3YbRVRSrMWS/sITxIvs/QL8M12MTQ1pItenwIjy+x8oNu3ThCOlJDZ+5SnJRCBPV2ZvQnOySzvPgErIcftgfnMU/IFD+86rzM00HOHXW/kw9V2IDJd+XOZS3+9R6XqOcrLDqE9Fbx/NsWaXIbyCwaLwkDoZWo21M4dNaGOAISHqWz/MxbtKBzgDvrjwoPNdJZ/jImOeYcxf6NzVXIBp2cW056M9SsrXRgGCp2ymR51zBmqLyvQcB/kpUn91KmQ25UwisjQbXjg973zNex7G7Lqh2TjxBUluH+H5E+L2ZzTj5RFV+hr7rIaS/Pjv04zhS0IKYFkwbqrpbY8ujnKty+rdsAN67j5tMNvhHYGtuk05Sx2BdW2R+xg+Gs32Iu10ysb8Z+7Z0HQVD5d1VcgaePpHcKchvSLxDw3UZOJ6Q0MDOjxytEBYRVY7Jc3VHbJtXUvgv5Brap61/+3+G5nxKat5uFvtq5MQt/6lyfvFEkKFY+9GP/gVJBqywrnJL4Y9VkuAwG91FMX7DuizGNcaiw6BqOWR/G/6JdyUx0Y327AqGXbivE+9ChD0kI/EIfEy+Q+XyTR70L0bisHQdrR4NOfm5K2rqS1JtSBfH5sfVKoNMh4U14BTIKROwwVU1Aonpps5MsYd18F37ZRRWBF/ufC4/arX+pzy6/T3nHMCaiMP4s5aZqbTAB27vbj5xR+D0YyZhrwqpW6yb3jES8bIKnHimbWMQkgryTvqYcYh7Suag1I/K0RUyNn2olf4ziDbjhfxezk9S2YqHCm9jAGX99ojqbAaTK8zPU3H1ZhMSknK0/834Sk7nsiBg6wuMdn6T1sezyJAM/IzPV/5akFD/9MW14PKBKNifByLFZg4aX7kRxmMR21PAAevyDWHu+vecPusjR1Y0KvyFbcOxlaUwMMs50et31yO1k9+dzba0QHnNCqFeoveuNtovtj2M3sDYUSYZ8YbEi7VO6jLXAEjIXrXq6W0ztVEceUwNbd2nEmgbKZC8Xz+VjnoKFKZtQLqZAFshvTCT7h/IU8zS2bEVV5XJFS0Gis/biEKpRy0gXNxYGtGvPtuoK6+4FvHtWZjcFVnUt9q5b3iMFUeHD7cx2xXELrZutKdXstpJKI/HJHxVUROQrQo8n0UVcT6CyB/MfJjyfajAcac99+qBlGFr0klHr8Jc5+l+RvKrFFE9x6fL3UVlH5fIpEnQo2QlEYaf7JXZ6RscemNuOJryX6AXcOf1po732rQfp7hJqjt1FRhtch6e6X4iX5NmrlFZeFRVIEk1FL60xDev/Xlao8BlNmRrsNFuIntXxEVFElg7cglL/CsnJHhipNVRL7MEPcb1o43+BkOZbwy4xRp5AO1R1DPY+hzRdaO1JElu93cTUa/UiwNoVNUxMIxCu5chmlyb4IHIyJHEec93pP+GrnbNRG+am3e22YI0uOUqitzobyehhXPMp1sYnPD0kvVjewLMU3IwAAAABkV4aWYAAElJKgAIAAAABgASAQMAAQAAAAEAAAAaAQUAAQAAAFYAAAAbAQUAAQAAAF4AAAAoAQMAAQAAAAIAAAATAgMAAQAAAAEAAABphwQAAQAAAGYAAAAAAAAASAAAAAEAAABIAAAAAQAAAAYAAJAHAAQAAAAwMjEwAZEHAAQAAAABAgMAAKAHAAQAAAAwMTAwAaADAAEAAAD//wAAAqAEAAEAAADQAgAAA6AEAAEAAACTAQAAAAAAAA==)"
      ],
      "metadata": {
        "id": "pF92hV-iXh_m"
      }
    },
    {
      "cell_type": "code",
      "source": [
        "print(\"Meu primeiro programa\")"
      ],
      "metadata": {
        "colab": {
          "base_uri": "https://localhost:8080/"
        },
        "id": "qHOHhtf7YHHN",
        "outputId": "9973be15-64e3-4323-e32f-7f7fd961a881"
      },
      "execution_count": 21,
      "outputs": [
        {
          "output_type": "stream",
          "name": "stdout",
          "text": [
            "Meu primeiro programa\n"
          ]
        }
      ]
    },
    {
      "cell_type": "code",
      "source": [
        "num=int(input(\"Digite um numero para ser exibido: \",))\n",
        "print(\"O numero digitado foi: \", num)"
      ],
      "metadata": {
        "colab": {
          "base_uri": "https://localhost:8080/"
        },
        "id": "e7P9G1RPYoIt",
        "outputId": "66801657-b54e-43c5-f9a2-981ccdf45303"
      },
      "execution_count": 22,
      "outputs": [
        {
          "output_type": "stream",
          "name": "stdout",
          "text": [
            "Digite um numero para ser exibido: 6\n",
            "O numero digitado foi:  6\n"
          ]
        }
      ]
    },
    {
      "cell_type": "code",
      "source": [
        "num=int(input(\"Digite um numero para ser exibido: \"))\n",
        "print(\"Foi informado o valor \", num)"
      ],
      "metadata": {
        "colab": {
          "base_uri": "https://localhost:8080/"
        },
        "id": "vZNliS_bY-OS",
        "outputId": "d2652715-ada9-4887-97e2-162ade993079"
      },
      "execution_count": 23,
      "outputs": [
        {
          "output_type": "stream",
          "name": "stdout",
          "text": [
            "Digite um numero para ser exibido: 1\n",
            "Foi informado o valor  1\n"
          ]
        }
      ]
    },
    {
      "cell_type": "code",
      "source": [
        "num1=int(input(\"Digite o primeiro numero a ser exibido: \"))\n",
        "num2=int(input(\"Digite o segundo numero a ser exibido: \"))\n",
        "print(f\"Voce informou os numeros {num1} e {num2}\")"
      ],
      "metadata": {
        "colab": {
          "base_uri": "https://localhost:8080/"
        },
        "id": "chihws_wZiEs",
        "outputId": "2274c8f7-a0fe-4aa9-ec67-afd9df0a9541"
      },
      "execution_count": 24,
      "outputs": [
        {
          "output_type": "stream",
          "name": "stdout",
          "text": [
            "Digite o primeiro numero a ser exibido: 5\n",
            "Digite o segundo numero a ser exibido: 7\n",
            "Voce informou os numeros 5 e 7\n"
          ]
        }
      ]
    },
    {
      "cell_type": "code",
      "source": [
        "num1=float(input(\"Digite um numero real: \"))\n",
        "print(\"Voce informou o numero \", num1)"
      ],
      "metadata": {
        "colab": {
          "base_uri": "https://localhost:8080/"
        },
        "id": "U_PSKvxJaBe4",
        "outputId": "d38eefd3-e2c9-43f5-b39d-9e129366f614"
      },
      "execution_count": 25,
      "outputs": [
        {
          "output_type": "stream",
          "name": "stdout",
          "text": [
            "Digite um numero real: 9\n",
            "Voce informou o numero  9.0\n"
          ]
        }
      ]
    },
    {
      "cell_type": "code",
      "source": [
        "c=float(input(\"Digite quantos graus voce quer converter para farenheit: \"))\n",
        "convert=(c*1.8+32)\n",
        "print(f\"{c} graus celcius para farenheit é: \", convert)"
      ],
      "metadata": {
        "colab": {
          "base_uri": "https://localhost:8080/"
        },
        "id": "WVE0MWlJaTaG",
        "outputId": "cc6a5d5d-969d-4704-f01e-6b5c2c60d144"
      },
      "execution_count": 26,
      "outputs": [
        {
          "output_type": "stream",
          "name": "stdout",
          "text": [
            "Digite quantos graus voce quer converter para farenheit: 35\n",
            "35.0 graus celcius para farenheit é:  95.0\n"
          ]
        }
      ]
    },
    {
      "cell_type": "code",
      "source": [
        "numi=int(input(\"Digite um numero inteiro: \"))\n",
        "numf=float(input(\"Digite um numero real: \"))\n",
        "print(f\"Voce informou os numeros {numi} e {numf}\")"
      ],
      "metadata": {
        "colab": {
          "base_uri": "https://localhost:8080/"
        },
        "id": "o8Gfa77qbgv-",
        "outputId": "6f539ae0-4a33-45ed-fa32-8d8b9325c8e9"
      },
      "execution_count": 27,
      "outputs": [
        {
          "output_type": "stream",
          "name": "stdout",
          "text": [
            "Digite um numero inteiro: 10\n",
            "Digite um numero real: 30\n",
            "Voce informou os numeros 10 e 30.0\n"
          ]
        }
      ]
    },
    {
      "cell_type": "code",
      "source": [
        "\n",
        "nome=str(input(\"Digite a primeira letra do seu nome: \"))\n",
        "print(\"Voce digitou\",nome)"
      ],
      "metadata": {
        "colab": {
          "base_uri": "https://localhost:8080/"
        },
        "id": "tYZVzfbAcMi2",
        "outputId": "1a428756-cb5d-4c94-8331-86a0bed56ffc"
      },
      "execution_count": 28,
      "outputs": [
        {
          "output_type": "stream",
          "name": "stdout",
          "text": [
            "Digite a primeira letra do seu nome: B\n",
            "Voce digitou B\n"
          ]
        }
      ]
    },
    {
      "cell_type": "code",
      "source": [
        "cor=str(input(\"Digite sua cor preferida: \"))\n",
        "print(\"Voce gosta da cor:\", cor)"
      ],
      "metadata": {
        "colab": {
          "base_uri": "https://localhost:8080/"
        },
        "id": "Dxn9_S6rcnnm",
        "outputId": "519a053c-9bb3-4334-ce5e-8386a8489ae1"
      },
      "execution_count": 29,
      "outputs": [
        {
          "output_type": "stream",
          "name": "stdout",
          "text": [
            "Digite sua cor preferida: azul\n",
            "Voce gosta da cor: azul\n"
          ]
        }
      ]
    },
    {
      "cell_type": "code",
      "source": [
        "verdura=str(input(\"Digite sua verdura preferida: \"))\n",
        "fruta=str(input(\"Digite sua fruta preferida: \"))\n",
        "print(f\"Voce gosta de {verdura} e {fruta}\")"
      ],
      "metadata": {
        "colab": {
          "base_uri": "https://localhost:8080/"
        },
        "id": "joJf3t8OdHED",
        "outputId": "97fb41ef-fc4f-418b-d083-96b79d7090aa"
      },
      "execution_count": 30,
      "outputs": [
        {
          "output_type": "stream",
          "name": "stdout",
          "text": [
            "Digite sua verdura preferida: chuchu\n",
            "Digite sua fruta preferida: uva\n",
            "Voce gosta de chuchu e uva\n"
          ]
        }
      ]
    },
    {
      "cell_type": "code",
      "source": [
        "num=int(input(\"Digite um numero: \"))\n",
        "mult=(num*2)\n",
        "print(\"Numero -->\", num)\n",
        "print(\"Dobro desse numero -->\", mult)\n"
      ],
      "metadata": {
        "colab": {
          "base_uri": "https://localhost:8080/"
        },
        "id": "I3M138MkdrVS",
        "outputId": "769a91ad-64f3-4b80-c81c-3fcc9883038a"
      },
      "execution_count": 33,
      "outputs": [
        {
          "output_type": "stream",
          "name": "stdout",
          "text": [
            "Digite um numero: 4\n",
            "Numero --> 4\n",
            "Dobro desse numero --> 8\n"
          ]
        }
      ]
    },
    {
      "cell_type": "code",
      "source": [
        "num=int(input(\"Digite um numero: \"))\n",
        "quadrado=(num*num)\n",
        "cubo=(num*num*num)\n",
        "print(f\"O numero {num} ao quadrado é {quadrado} e ao cubo é {cubo}\")"
      ],
      "metadata": {
        "colab": {
          "base_uri": "https://localhost:8080/"
        },
        "id": "Z13ZZD99e65Q",
        "outputId": "dcacdf70-410a-46f2-ed8f-0ce057da2c94"
      },
      "execution_count": 36,
      "outputs": [
        {
          "output_type": "stream",
          "name": "stdout",
          "text": [
            "Digite um numero: 3\n",
            "O numero 3 ao quadrado é 9 e ao cubo é 27\n"
          ]
        }
      ]
    },
    {
      "cell_type": "code",
      "source": [
        "num1=int(input(\"Digite o primeiro numero: \"))\n",
        "num2=int(input(\"Digite o segundo numero: \"))\n",
        "soma=(num1+num2)\n",
        "print(f\"Os numeros {num1} e {num2} somados correspondem a {soma}\")"
      ],
      "metadata": {
        "colab": {
          "base_uri": "https://localhost:8080/"
        },
        "id": "T9Lnqwm0fuhq",
        "outputId": "34516783-cd5b-41aa-8670-11f7ef180d75"
      },
      "execution_count": 37,
      "outputs": [
        {
          "output_type": "stream",
          "name": "stdout",
          "text": [
            "Digite o primeiro numero: 4\n",
            "Digite o segundo numero: 4\n",
            "Os numeros 4 e 4 somados correspondem a 8\n"
          ]
        }
      ]
    },
    {
      "cell_type": "code",
      "source": [
        "num1=float(input(\"Digite o primeiro numero: \"))\n",
        "num2=float(input(\"Digite o segundo numero: \"))\n",
        "produto=(num1*num2)\n",
        "print(f\"O produto dos numeros {num1} e {num2} corresponde a {produto}\")"
      ],
      "metadata": {
        "colab": {
          "base_uri": "https://localhost:8080/"
        },
        "id": "Cr9D43mCgmox",
        "outputId": "d13b4a95-1625-46fc-95f2-63d485149cd4"
      },
      "execution_count": 39,
      "outputs": [
        {
          "output_type": "stream",
          "name": "stdout",
          "text": [
            "Digite o primeiro numero: 4.55\n",
            "Digite o segundo numero: 3.66\n",
            "O produto dos numeros 4.55 e 3.66 corresponde a 16.653\n"
          ]
        }
      ]
    },
    {
      "cell_type": "code",
      "source": [
        "\n",
        "num1=int(input(\"Digite o primeiro numero: \"))\n",
        "num2=int(input(\"Digite o segundo numero: \"))\n",
        "ad=(num1+num2)\n",
        "sub=(num1-num2)\n",
        "mult=(num1*num2)\n",
        "div=float(num1/num2)\n",
        "print(f\"A soma dos numeros {num1} e {num2} é {ad}\")\n",
        "print(f\"A subtração dos numeros {num1} e {num2} é {sub}\")\n",
        "print(f\"A multiplicação dos numeros {num1} e {num2} é {mult}\")\n",
        "print(f\"A divisão dos numeros {num1} e {num2} é {div}\")"
      ],
      "metadata": {
        "colab": {
          "base_uri": "https://localhost:8080/"
        },
        "id": "e0IdCmVYhf3V",
        "outputId": "34b78ea3-7f06-490a-9849-49f7d44a4179"
      },
      "execution_count": 45,
      "outputs": [
        {
          "output_type": "stream",
          "name": "stdout",
          "text": [
            "Digite o primeiro numero: 3\n",
            "Digite o segundo numero: 5\n",
            "A soma dos numeros 3 e 5 é 8\n",
            "A subtração dos numeros 3 e 5 é -2\n",
            "A multiplicação dos numeros 3 e 5 é 15\n",
            "A divisão dos numeros 3 e 5 é 0.6\n"
          ]
        }
      ]
    }
  ]
}
